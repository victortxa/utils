{
 "cells": [
  {
   "cell_type": "code",
   "execution_count": 66,
   "metadata": {
    "collapsed": true
   },
   "outputs": [],
   "source": [
    "from fatiando.gravmag import normal_gravity\n",
    "from fatiando.vis import mpl\n",
    "import matplotlib.pyplot as plt\n",
    "import numpy as np\n",
    "from mpl_toolkits.basemap import Basemap, shiftgrid, cm\n",
    "import urllib"
   ]
  },
  {
   "cell_type": "code",
   "execution_count": 67,
   "metadata": {
    "collapsed": false
   },
   "outputs": [],
   "source": [
    "lon, lat, height, gravity = np.loadtxt('eigen-6c4-grav.gdf', skiprows=34,\n",
    "                                       unpack=True)\n",
    "topo = np.loadtxt('eigen-6c4-topo.gdf', skiprows=29, usecols=[-1], unpack=True)\n",
    "shape = (53, 210)\n",
    "\n",
    "area = (lon.min(), lon.max(), lat.min(), lat.max())"
   ]
  },
  {
   "cell_type": "code",
   "execution_count": 68,
   "metadata": {
    "collapsed": true
   },
   "outputs": [],
   "source": [
    "# First, lets calculate the gravity disturbance (e.g., the free-air anomaly)\n",
    "# We'll do this using the closed form of the normal gravity for the WGS84\n",
    "# ellipsoid\n",
    "gamma = normal_gravity.gamma_closed_form(lat, height)\n",
    "disturbance = gravity - gamma"
   ]
  },
  {
   "cell_type": "code",
   "execution_count": 69,
   "metadata": {
    "collapsed": false
   },
   "outputs": [],
   "source": [
    "# Now we can remove the effect of the Bouguer plate to obtain the Bouguer\n",
    "# anomaly. We'll use the standard densities of 2.67 g.cm^-3 for crust and 1.04\n",
    "# g.cm^-3 for water.\n",
    "bouguer = disturbance - normal_gravity.bouguer_plate(topo)"
   ]
  },
  {
   "cell_type": "code",
   "execution_count": 5,
   "metadata": {
    "collapsed": false,
    "scrolled": true
   },
   "outputs": [],
   "source": [
    "#mpl.figure(figsize=(14, 3.5))\n",
    "mpl.figure(figsize=(28, 7))\n",
    "bm = mpl.basemap(area, projection='merc')\n",
    "\n",
    "mpl.subplot(131)\n",
    "mpl.title('Gravity (mGal)')\n",
    "mpl.contourf(lon, lat, gravity, shape, 60, cmap=mpl.cm.Reds, basemap=bm)\n",
    "mpl.colorbar(pad=0.05)\n",
    "\n",
    "mpl.subplot(132)\n",
    "mpl.title('Gravity disturbance (mGal)')\n",
    "amp = np.abs(disturbance).max()\n",
    "mpl.contourf(lon, lat, disturbance, shape, 60, cmap=mpl.cm.RdBu_r, basemap=bm,\n",
    "             vmin=-amp, vmax=amp)\n",
    "mpl.colorbar(pad=0.05)\n",
    "\n",
    "mpl.subplot(133)\n",
    "mpl.title('Bouguer anomaly (mGal)')\n",
    "mpl.contourf(lon, lat, bouguer, shape, 60, cmap=mpl.cm.Reds, basemap=bm)\n",
    "mpl.colorbar(pad=0.05)\n",
    "mpl.show()"
   ]
  },
  {
   "cell_type": "markdown",
   "metadata": {
    "collapsed": false
   },
   "source": []
  },
  {
   "cell_type": "code",
   "execution_count": 74,
   "metadata": {
    "collapsed": true
   },
   "outputs": [],
   "source": [
    "import numpy as np\n",
    "def _bkmatrix(x,y, degree):\n",
    "    \"\"\"\n",
    "    Make the Bk polynomial coefficient matrix for a given PointGrid.\n",
    "    This matrix converts the coefficients into physical property values.\n",
    "    Parameters:\n",
    "    * grid : :class:`~fatiando.mesher.PointGrid`\n",
    "        The sources in the equivalent layer\n",
    "    * degree : int\n",
    "        The degree of the bivariate polynomial\n",
    "    Returns:\n",
    "    * bk : 2d-array\n",
    "        The matrix\n",
    "    Examples:\n",
    "    >>> from fatiando.mesher import PointGrid\n",
    "    >>> grid = PointGrid((0, 1, 0, 2), 10, (2, 2))\n",
    "    >>> print _bkmatrix(grid, 2)\n",
    "    [[ 1.  0.  0.  0.  0.  0.]\n",
    "     [ 1.  0.  1.  0.  0.  1.]\n",
    "     [ 1.  2.  0.  4.  0.  0.]\n",
    "     [ 1.  2.  1.  4.  2.  1.]]\n",
    "    >>> print _bkmatrix(grid, 1)\n",
    "    [[ 1.  0.  0.]\n",
    "     [ 1.  0.  1.]\n",
    "     [ 1.  2.  0.]\n",
    "     [ 1.  2.  1.]]\n",
    "    >>> print _bkmatrix(grid, 3)\n",
    "    [[ 1.  0.  0.  0.  0.  0.  0.  0.  0.  0.]\n",
    "     [ 1.  0.  1.  0.  0.  1.  0.  0.  0.  1.]\n",
    "     [ 1.  2.  0.  4.  0.  0.  8.  0.  0.  0.]\n",
    "     [ 1.  2.  1.  4.  2.  1.  8.  4.  2.  1.]]\n",
    "    \"\"\"\n",
    "    bmatrix = np.transpose(\n",
    "        [(x ** i) * (y ** j)\n",
    "         for l in xrange(1, degree + 2)\n",
    "         for i, j in zip(xrange(l), xrange(l - 1, -1, -1))])\n",
    "    return bmatrix"
   ]
  },
  {
   "cell_type": "code",
   "execution_count": 75,
   "metadata": {
    "collapsed": false
   },
   "outputs": [],
   "source": [
    "A_bouguer=_bkmatrix(lon,lat,3)"
   ]
  },
  {
   "cell_type": "code",
   "execution_count": 76,
   "metadata": {
    "collapsed": false
   },
   "outputs": [
    {
     "data": {
      "text/plain": [
       "(11130, 10)"
      ]
     },
     "execution_count": 76,
     "metadata": {},
     "output_type": "execute_result"
    }
   ],
   "source": [
    "A_bouguer.shape"
   ]
  },
  {
   "cell_type": "code",
   "execution_count": 77,
   "metadata": {
    "collapsed": false
   },
   "outputs": [
    {
     "name": "stdout",
     "output_type": "stream",
     "text": [
      "i= 0 \n",
      "\n",
      "i= 1 \n",
      "\n",
      "i= 2 \n",
      "\n",
      "i= 3 \n",
      "\n",
      "i= 4 \n",
      "\n",
      "i= 5 \n",
      "\n",
      "i= 6 \n",
      "\n",
      "i= 7 \n",
      "\n",
      "i= 8 \n",
      "\n",
      "i= 9 \n",
      "\n"
     ]
    }
   ],
   "source": [
    "w=1.\n",
    "W=np.identity(A_bouguer.shape[0])\n",
    "rwlst_it=10\n",
    "pw=0\n",
    "epsilon=0.0001\n",
    "for i in range(rwlst_it):\n",
    "    #lstsq\n",
    "    p_bouguer = np.dot(A_bouguer.transpose(),W)\n",
    "    p_bouguer = np.linalg.inv(np.dot(p_bouguer,A_bouguer))    \n",
    "    p_bouguer = np.dot(p_bouguer,A_bouguer.transpose())\n",
    "    p_bouguer = np.dot(p_bouguer,w*bouguer)\n",
    "    #\n",
    "    r = bouguer-np.dot(A_bouguer,p_bouguer)\n",
    "    w = 1/np.abs(r)\n",
    "    W=np.diag(w)\n",
    "    print 'i=',i,'\\n'\n",
    "    #print 'p=',pw,'\\n','W=',W,'\\n','mean(r)=',np.mean(r),'\\n','--------------------'\n",
    "#pw"
   ]
  },
  {
   "cell_type": "code",
   "execution_count": 78,
   "metadata": {
    "collapsed": false
   },
   "outputs": [
    {
     "data": {
      "text/plain": [
       "13.738698448806474"
      ]
     },
     "execution_count": 78,
     "metadata": {},
     "output_type": "execute_result"
    }
   ],
   "source": [
    "np.mean(np.abs(bouguer-np.dot(A_bouguer,p_bouguer)))"
   ]
  },
  {
   "cell_type": "code",
   "execution_count": 79,
   "metadata": {
    "collapsed": true
   },
   "outputs": [],
   "source": [
    "grav_corr=bouguer-np.dot(A_bouguer,p_bouguer)"
   ]
  },
  {
   "cell_type": "code",
   "execution_count": 30,
   "metadata": {
    "collapsed": true
   },
   "outputs": [],
   "source": [
    "mpl.figure()\n",
    "mpl.title('Gravity (mGal)')\n",
    "mpl.contourf(lon, lat, gravity, shape, 60, cmap=mpl.cm.RdBu_r, basemap=bm)\n",
    "#mpl.contourf(lon, lat, gravity, shape, 60, cmap=mpl.cm.spectral, basemap=bm)\n",
    "mpl.colorbar(pad=0.05)\n",
    "mpl.show()"
   ]
  },
  {
   "cell_type": "code",
   "execution_count": 29,
   "metadata": {
    "collapsed": true
   },
   "outputs": [],
   "source": [
    "mpl.figure()\n",
    "mpl.title('Gravity free air (mGal)')\n",
    "amp = np.abs(disturbance).max()\n",
    "mpl.contourf(lon, lat, disturbance, shape, 60, cmap=mpl.cm.RdBu_r, basemap=bm,\n",
    "             vmin=-amp, vmax=amp)\n",
    "mpl.colorbar(pad=0.05)\n",
    "mpl.show()"
   ]
  },
  {
   "cell_type": "code",
   "execution_count": 31,
   "metadata": {
    "collapsed": true
   },
   "outputs": [],
   "source": [
    "mpl.figure()\n",
    "mpl.title('Bouguer anomaly (mGal)')\n",
    "mpl.contourf(lon, lat, bouguer, shape, 60, cmap=mpl.cm.RdBu_r, basemap=bm)\n",
    "#mpl.contourf(lon, lat, bouguer, shape, 60, cmap=mpl.cm.hsv, basemap=bm)\n",
    "mpl.colorbar(pad=0.05)\n",
    "mpl.show()"
   ]
  },
  {
   "cell_type": "code",
   "execution_count": 32,
   "metadata": {
    "collapsed": false
   },
   "outputs": [],
   "source": [
    "plt.figure()\n",
    "plt.title('Gravidade residual (mGal)')\n",
    "mpl.contourf(lon, lat, grav_corr, shape, 60, cmap=mpl.cm.RdBu_r, basemap=bm)\n",
    "#mpl.contourf(lon, lat, grav_corr, shape, 60, cmap=mpl.cm.hsv, basemap=bm)\n",
    "plt.colorbar(pad=0.05)\n",
    "plt.show()"
   ]
  },
  {
   "cell_type": "code",
   "execution_count": 22,
   "metadata": {
    "collapsed": true
   },
   "outputs": [],
   "source": [
    "np.savetxt('bouguer.txt',np.transpose([lon, lat, bouguer]), fmt='%1.12f')"
   ]
  },
  {
   "cell_type": "code",
   "execution_count": 23,
   "metadata": {
    "collapsed": true
   },
   "outputs": [],
   "source": [
    "np.savetxt(\"gravity_free_air.txt\",np.transpose([lon, lat, disturbance]), fmt='%1.12f')"
   ]
  },
  {
   "cell_type": "code",
   "execution_count": 24,
   "metadata": {
    "collapsed": true
   },
   "outputs": [],
   "source": [
    "np.savetxt(\"gravity.txt\",np.transpose([lon, lat, gravity]), fmt='%1.12f')"
   ]
  },
  {
   "cell_type": "code",
   "execution_count": 25,
   "metadata": {
    "collapsed": true
   },
   "outputs": [],
   "source": [
    "np.savetxt(\"grav_residual.txt\",np.transpose([lon, lat, grav_corr]), fmt='%1.12f') "
   ]
  },
  {
   "cell_type": "markdown",
   "metadata": {
    "collapsed": true
   },
   "source": [
    "# Mapas"
   ]
  },
  {
   "cell_type": "code",
   "execution_count": 80,
   "metadata": {
    "collapsed": true
   },
   "outputs": [],
   "source": [
    "lon_tmp = lon\n",
    "lat_tmp = lat\n",
    "topo_tmp = topo\n",
    "topo = topo.reshape([53,210])\n",
    "lon = lon.reshape([53,210])\n",
    "lat = lat.reshape([53,210])"
   ]
  },
  {
   "cell_type": "code",
   "execution_count": 81,
   "metadata": {
    "collapsed": true
   },
   "outputs": [],
   "source": [
    "lon = -360.+lon"
   ]
  },
  {
   "cell_type": "markdown",
   "metadata": {},
   "source": [
    "### Mapa topografia"
   ]
  },
  {
   "cell_type": "code",
   "execution_count": 139,
   "metadata": {
    "collapsed": false
   },
   "outputs": [],
   "source": [
    "fig = plt.figure()\n",
    "ax = fig.add_axes([0.1,0.1,0.8,0.8])\n",
    "m = Basemap(llcrnrlon=lon.min(), llcrnrlat=lat.min(), urcrnrlon=lon.max(), urcrnrlat=lat.max(),\n",
    "            resolution='l', projection='merc',\n",
    "            lat_1=lat.max(), lon_0=lon.max())\n",
    "x, y = m(lon, lat)\n",
    "im=m.contourf(x, y, topo, 40, cmap='cubehelix')\n",
    "parallels = np.arange(-21.5,-19,0.5)\n",
    "m.drawcoastlines()\n",
    "m.drawcountries()\n",
    "#parallels\n",
    "parallels = np.arange(-21.5,-19,0.5)\n",
    "m.drawparallels(parallels,labels=[1,0,0,1])\n",
    "##meridians\n",
    "meridians = np.arange(320.,331.,2.5)\n",
    "m.drawmeridians(meridians,labels=[1,0,0,1])\n",
    "#\n",
    "cb = m.colorbar(im,\"right\", size=\"5%\", pad='5%')\n",
    "cb.ax.set_xlabel('m')\n",
    "ax.set_title('Topografia')\n",
    "plt.show()"
   ]
  },
  {
   "cell_type": "markdown",
   "metadata": {},
   "source": [
    "### Mapa para valores de gravidade"
   ]
  },
  {
   "cell_type": "code",
   "execution_count": 83,
   "metadata": {
    "collapsed": true
   },
   "outputs": [],
   "source": [
    "grav_tmp=gravity.reshape([53,210])"
   ]
  },
  {
   "cell_type": "code",
   "execution_count": 140,
   "metadata": {
    "collapsed": false
   },
   "outputs": [],
   "source": [
    "#plt.figure()\n",
    "fig = plt.figure()\n",
    "ax = fig.add_axes([0.1,0.1,0.8,0.8])\n",
    "m = Basemap(llcrnrlon=lon.min(), llcrnrlat=lat.min(), urcrnrlon=lon.max(), urcrnrlat=lat.max(),\n",
    "            resolution='l', projection='merc',\n",
    "            lat_1=lat.max(), lon_0=lon.max())\n",
    "x, y = m(lon, lat)\n",
    "im=m.contourf(x, y, grav_tmp, 100, cmap='cubehelix')\n",
    "parallels = np.arange(-21.5,-19,0.5)\n",
    "m.drawcoastlines()\n",
    "m.drawcountries()\n",
    "#parallels\n",
    "parallels = np.arange(-21.5,-19,0.5)\n",
    "m.drawparallels(parallels,labels=[1,0,0,1])\n",
    "#meridians\n",
    "meridians = np.arange(320.,331.,2.5)\n",
    "m.drawmeridians(meridians,labels=[1,0,0,1])\n",
    "#\n",
    "cb = m.colorbar(im,\"right\", size=\"5%\", pad='5%')\n",
    "cb.ax.set_xlabel('mgal')\n",
    "ax.set_title(u'Aceleração da gravidade')\n",
    "plt.show()"
   ]
  },
  {
   "cell_type": "markdown",
   "metadata": {},
   "source": [
    "### Mapa anomalia ar livre"
   ]
  },
  {
   "cell_type": "code",
   "execution_count": 85,
   "metadata": {
    "collapsed": false
   },
   "outputs": [],
   "source": [
    "disturbance_tmp=disturbance.reshape([53,210])"
   ]
  },
  {
   "cell_type": "code",
   "execution_count": 88,
   "metadata": {
    "collapsed": true
   },
   "outputs": [],
   "source": [
    "maior=np.abs([disturbance_tmp.min(), disturbance_tmp.max()]).max()"
   ]
  },
  {
   "cell_type": "code",
   "execution_count": 141,
   "metadata": {
    "collapsed": false
   },
   "outputs": [],
   "source": [
    "#plt.figure()\n",
    "fig = plt.figure()\n",
    "ax = fig.add_axes([0.1,0.1,0.8,0.8])\n",
    "m = Basemap(llcrnrlon=lon.min(), llcrnrlat=lat.min(), urcrnrlon=lon.max(), urcrnrlat=lat.max(),\n",
    "            resolution='l', projection='merc',\n",
    "            lat_1=lat.max(), lon_0=lon.max())\n",
    "x, y = m(lon, lat)\n",
    "im=m.contourf(x, y, disturbance_tmp, 100, cmap='RdBu_r', vmin=-maior, vmax=maior)\n",
    "#parallels\n",
    "parallels = np.arange(-21.5,-19,0.5)\n",
    "m.drawparallels(parallels,labels=[1,0,0,1])\n",
    "#meridians\n",
    "meridians = np.arange(320.,331.,2.5)\n",
    "m.drawmeridians(meridians,labels=[1,0,0,1])\n",
    "#\n",
    "cb = m.colorbar(im,\"right\", size=\"5%\", pad='5%')\n",
    "cb.ax.set_xlabel('mgal')\n",
    "ax.set_title('Anomalia ar-livre')\n",
    "plt.show()"
   ]
  },
  {
   "cell_type": "markdown",
   "metadata": {},
   "source": [
    "### Mapa anomalia bouguer"
   ]
  },
  {
   "cell_type": "code",
   "execution_count": 97,
   "metadata": {
    "collapsed": true
   },
   "outputs": [],
   "source": [
    "bouguer_tmp=bouguer.reshape([53,210])\n",
    "maior=np.abs([bouguer_tmp.min(), bouguer_tmp.max()]).max()"
   ]
  },
  {
   "cell_type": "code",
   "execution_count": 143,
   "metadata": {
    "collapsed": false
   },
   "outputs": [],
   "source": [
    "#plt.figure()\n",
    "fig = plt.figure()\n",
    "ax = fig.add_axes([0.1,0.1,0.8,0.8])\n",
    "m = Basemap(llcrnrlon=lon.min(), llcrnrlat=lat.min(), urcrnrlon=lon.max(), urcrnrlat=lat.max(),\n",
    "            resolution='l', projection='merc',\n",
    "            lat_1=lat.max(), lon_0=lon.max())\n",
    "x, y = m(lon, lat)\n",
    "im=m.contourf(x, y, bouguer_tmp, 100, cmap='cubehelix')\n",
    "#parallels\n",
    "parallels = np.arange(-21.5,-19,0.5)\n",
    "m.drawparallels(parallels,labels=[1,0,0,1])\n",
    "#meridians\n",
    "meridians = np.arange(320.,331.,2.5)\n",
    "m.drawmeridians(meridians,labels=[1,0,0,1])\n",
    "#\n",
    "cb = m.colorbar(im,\"right\", size=\"5%\", pad='5%')\n",
    "cb.ax.set_xlabel('mgal')\n",
    "ax.set_title('Anomalia Bouguer')\n",
    "plt.show()"
   ]
  },
  {
   "cell_type": "code",
   "execution_count": 106,
   "metadata": {
    "collapsed": false
   },
   "outputs": [
    {
     "data": {
      "text/plain": [
       "383.63963183468326"
      ]
     },
     "execution_count": 106,
     "metadata": {},
     "output_type": "execute_result"
    }
   ],
   "source": [
    "bouguer_tmp.max()"
   ]
  },
  {
   "cell_type": "markdown",
   "metadata": {},
   "source": [
    "### Mapa Anomalia Residual da Gravidade"
   ]
  },
  {
   "cell_type": "code",
   "execution_count": 113,
   "metadata": {
    "collapsed": true
   },
   "outputs": [],
   "source": [
    "grav_corr_tmp=grav_corr.reshape([53,210])\n",
    "maior=np.abs([grav_corr_tmp.min(), grav_corr_tmp.max()]).max()"
   ]
  },
  {
   "cell_type": "code",
   "execution_count": 119,
   "metadata": {
    "collapsed": false
   },
   "outputs": [
    {
     "data": {
      "text/plain": [
       "51.122305023340573"
      ]
     },
     "execution_count": 119,
     "metadata": {},
     "output_type": "execute_result"
    }
   ],
   "source": [
    "grav_corr_tmp.max()"
   ]
  },
  {
   "cell_type": "code",
   "execution_count": 145,
   "metadata": {
    "collapsed": false
   },
   "outputs": [],
   "source": [
    "#plt.figure()\n",
    "fig = plt.figure()\n",
    "ax = fig.add_axes([0.1,0.1,0.8,0.8])\n",
    "m = Basemap(llcrnrlon=lon.min(), llcrnrlat=lat.min(), urcrnrlon=lon.max(), urcrnrlat=lat.max(),\n",
    "            resolution='l', projection='merc',\n",
    "            lat_1=lat.max(), lon_0=lon.max())\n",
    "x, y = m(lon, lat)\n",
    "im=m.contourf(x, y, grav_corr_tmp, 50, cmap='RdBu_r',vmin=-maior,vmax=maior)\n",
    "#parallels\n",
    "parallels = np.arange(-21.5,-19,0.5)\n",
    "m.drawparallels(parallels,labels=[1,0,0,1])\n",
    "#meridians\n",
    "meridians = np.arange(320.,331.,2.5)\n",
    "m.drawmeridians(meridians,labels=[1,0,0,1])\n",
    "#\n",
    "cb = m.colorbar(im,\"right\", size=\"5%\", pad='5%')\n",
    "cb.ax.set_xlabel('mgal')\n",
    "ax.set_title('Anomalia Residual da Gravidade')\n",
    "plt.show()"
   ]
  },
  {
   "cell_type": "code",
   "execution_count": null,
   "metadata": {
    "collapsed": true
   },
   "outputs": [],
   "source": []
  },
  {
   "cell_type": "markdown",
   "metadata": {},
   "source": [
    "# Load ICGEM data - Leo function"
   ]
  },
  {
   "cell_type": "code",
   "execution_count": 38,
   "metadata": {
    "collapsed": true
   },
   "outputs": [],
   "source": [
    "grav_data=load_icgem_gdf('eigen-6c4-grav.gdf')"
   ]
  },
  {
   "cell_type": "code",
   "execution_count": 39,
   "metadata": {
    "collapsed": false
   },
   "outputs": [
    {
     "data": {
      "text/plain": [
       "{'area': [-21.887758, -19.287758, 320.988022, 331.438022],\n",
       " 'gravity_earth': array([ 978724.5973651 ,  978720.86597657,  978721.55250247, ...,\n",
       "         978591.0472444 ,  978591.47316492,  978591.68283901]),\n",
       " 'h_over_geoid': array([ 0.,  0.,  0., ...,  0.,  0.,  0.]),\n",
       " 'latitude': array([-21.8878, -21.8878, -21.8878, ..., -19.2878, -19.2878, -19.2878]),\n",
       " 'longitude': array([ 320.988,  321.038,  321.088, ...,  331.338,  331.388,  331.438]),\n",
       " 'metadata': 'generating_institute     gfz-potsdam\\n     generating_date     2015/09/15\\n        product_type     gravity_field\\n                body     earth\\n           modelname     eigen-6c4\\n     max_used_degree          2190\\n         tide_system     tide_free\\n          functional     gravity_earth  (centrifugal term included)\\n                unit     mgal\\n          refsysname     WGS84\\n            gmrefpot      3.98600441800E+14 m**3/s**2\\n        radiusrefpot     6378137.000 m\\n          flatrefpot      3.352810664747480E-03   (1/298.25722356300)\\n         omegarefpot      7.29211500000E-05 1/s\\n    normal_potential      6.263685171456948E+07 m**2/s**2\\n       long_lat_unit     degree\\n      latlimit_north      -19.287758000000    \\n      latlimit_south      -21.887758000000    \\n      longlimit_west       320.98802200000    \\n      longlimit_east       331.43802200000    \\n            gridstep      0.50000000000000E-01\\n  latitude_parallels            53\\n longitude_parallels           210\\nnumber_of_gridpoints         11130\\n            gapvalue        9999999.0000\\n       weighted_mean      9.7866753E+05 mgal\\n            maxvalue      9.7894153E+05 mgal\\n            minvalue      9.7849105E+05 mgal\\n         signal_wrms      5.6479186E+01 mgal\\n         grid_format     long_lat_height_value\\n \\n          longitude    latitude  h_over_geoid  gravity_earth\\n            [deg.]      [deg.]     [meter]         [mgal]\\n',\n",
       " 'shape': (53, 210)}"
      ]
     },
     "execution_count": 39,
     "metadata": {},
     "output_type": "execute_result"
    }
   ],
   "source": [
    "grav_data"
   ]
  },
  {
   "cell_type": "code",
   "execution_count": 37,
   "metadata": {
    "collapsed": true
   },
   "outputs": [],
   "source": [
    "def load_icgem_gdf(fname, usecols=None):\n",
    "    \"\"\"\n",
    "    Load data from an ICGEM .gdf file.\n",
    "    \n",
    "    Returns:\n",
    "    \n",
    "    * data : dict\n",
    "        A dictionary with the data from the file. \n",
    "        Reads the column data and other metadata from \n",
    "        the file. Column data are numpy arrays.\n",
    "        \n",
    "    \"\"\"\n",
    "    with open(fname) as f:\n",
    "        # Read the header and extract metadata\n",
    "        metadata = []\n",
    "        shape = [None, None]\n",
    "        size = None\n",
    "        height = None\n",
    "        attributes = None\n",
    "        attr_line = False\n",
    "        area = [None]*4\n",
    "        for line in f:\n",
    "            if line.strip()[:11] == 'end_of_head':\n",
    "                break\n",
    "            metadata.append(line)\n",
    "            if not line.strip():\n",
    "                attr_line = True\n",
    "                continue\n",
    "            if not attr_line:\n",
    "                parts = line.strip().split()\n",
    "                if parts[0] == 'height_over_ell':\n",
    "                    height = float(parts[1])\n",
    "                elif parts[0] == 'latitude_parallels':\n",
    "                    shape[0] = int(parts[1])\n",
    "                elif parts[0] == 'longitude_parallels':\n",
    "                    shape[1] = int(parts[1])\n",
    "                elif parts[0] == 'number_of_gridpoints':\n",
    "                    size = int(parts[1])\n",
    "                elif parts[0] == 'latlimit_south':\n",
    "                    area[0] = float(parts[1])\n",
    "                elif parts[0] == 'latlimit_north':\n",
    "                    area[1] = float(parts[1])\n",
    "                elif parts[0] == 'longlimit_west':\n",
    "                    area[2] = float(parts[1])\n",
    "                elif parts[0] == 'longlimit_east':\n",
    "                    area[3] = float(parts[1])\n",
    "            else:\n",
    "                attributes = line.strip().split()\n",
    "                attr_line = False\n",
    "        # Read the numerical values\n",
    "        rawdata = np.loadtxt(f, usecols=usecols, ndmin=2, unpack=True)\n",
    "    # Sanity checks\n",
    "    assert all(n is not None for n in shape), \"Couldn't read shape of grid.\"\n",
    "    assert size is not None, \"Couldn't read size of grid.\"\n",
    "    shape = tuple(shape)\n",
    "    assert shape[0]*shape[1] == size, \\\n",
    "        \"Grid shape '{}' and size '{}' mismatch.\".format(shape, size)\n",
    "    assert attributes is not None, \"Couldn't read column names.\"\n",
    "    if usecols is not None:\n",
    "        attributes = [attributes[i] for i in usecols]\n",
    "    assert len(attributes) == rawdata.shape[0], \\\n",
    "        \"Number of attributes ({}) and data columns ({}) mismatch\".format(\n",
    "            len(attributes), rawdata.shape[0])\n",
    "    assert all(i is not None for i in area), \"Couldn't read the grid area.\"\n",
    "    # Return the data in a dictionary with the attribute names\n",
    "    # that we got from the file.\n",
    "    data = dict(shape=shape, area=area, metadata=''.join(metadata))\n",
    "    for attr, value in zip(attributes, rawdata):\n",
    "        # Need to invert the data matrices in latitude \"[::-1]\"\n",
    "        # because the ICGEM grid gets varies latitude from N to S\n",
    "        # and the TesseroidRelief expects the opposite.\n",
    "        data[attr] = value.reshape(shape)[::-1].ravel()\n",
    "    if (height is not None) and ('height' not in attributes):\n",
    "        data['height'] = height*np.ones(size)\n",
    "    if 'latitude' in attributes and 'longitude' in attributes:\n",
    "        lat, lon = data['latitude'], data['longitude']\n",
    "        area = (lat.min(), lat.max(), lon.min(), lon.max())\n",
    "        assert np.allclose(area, data['area']), \\\n",
    "            \"Grid area read ({}) and calculated from attributes ({}) mismatch.\".format(\n",
    "                data['area'], area)\n",
    "    return data "
   ]
  }
 ],
 "metadata": {
  "kernelspec": {
   "display_name": "Python 2",
   "language": "python",
   "name": "python2"
  },
  "language_info": {
   "codemirror_mode": {
    "name": "ipython",
    "version": 2
   },
   "file_extension": ".py",
   "mimetype": "text/x-python",
   "name": "python",
   "nbconvert_exporter": "python",
   "pygments_lexer": "ipython2",
   "version": "2.7.10"
  }
 },
 "nbformat": 4,
 "nbformat_minor": 0
}
