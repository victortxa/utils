{
 "cells": [
  {
   "cell_type": "code",
   "execution_count": null,
   "metadata": {
    "collapsed": true
   },
   "outputs": [],
   "source": [
    "from fatiando.gravmag import normal_gravity\n",
    "from fatiando.vis import mpl\n",
    "import matplotlib.pyplot as plt\n",
    "import numpy as np\n",
    "from mpl_toolkits.basemap import Basemap, shiftgrid, cm\n",
    "import urllib"
   ]
  },
  {
   "cell_type": "code",
   "execution_count": null,
   "metadata": {
    "collapsed": true
   },
   "outputs": [],
   "source": [
    "lon, lat, height, gravity = np.loadtxt('eigen-6c4-grav.gdf', skiprows=34,\n",
    "                                       unpack=True)\n",
    "topo = np.loadtxt('eigen-6c4-topo.gdf', skiprows=29, usecols=[-1], unpack=True)\n",
    "shape = (53, 210)\n",
    "\n",
    "area = (lon.min(), lon.max(), lat.min(), lat.max())"
   ]
  },
  {
   "cell_type": "code",
   "execution_count": null,
   "metadata": {
    "collapsed": true
   },
   "outputs": [],
   "source": [
    "topo_tmp=topo.reshape([53,210])\n",
    "topo_tmp=topo_tmp[::-1,:]"
   ]
  },
  {
   "cell_type": "code",
   "execution_count": null,
   "metadata": {
    "collapsed": true
   },
   "outputs": [],
   "source": [
    "fig = plt.figure()\n",
    "ax = fig.add_axes([0.1,0.1,0.8,0.8])\n",
    "m = Basemap(llcrnrlon=-(360.-320.438022),llcrnrlat=-21.887758,urcrnrlon=-(360.-331.438022),urcrnrlat=-19.287758,\n",
    "            resolution='l',projection='lcc',\n",
    "            lat_1=-19.287758,lon_0=-(360.-331.438022),ax=ax)\n",
    "#colorbar\n",
    "im=m.imshow(topo_tmp,cmap=mpl.cm.Reds)\n",
    "im.set_clim(min(topo),max(topo))\n",
    "#coast lines\n",
    "m.drawcoastlines()\n",
    "#countries boundaries\n",
    "m.drawcountries()\n",
    "#parallels\n",
    "parallels = np.arange(-21.5,-19,0.5)\n",
    "m.drawparallels(parallels,labels=[1,0,0,1])\n",
    "#meridians\n",
    "meridians = np.arange(320.,331.,2.5)\n",
    "m.drawmeridians(meridians,labels=[1,0,0,1])\n",
    "#colorbar settings\n",
    "cb = m.colorbar(im,\"right\", size=\"5%\", pad='5%')\n",
    "cb.ax.set_xlabel('m')\n",
    "ax.set_title(\"Topografia\")\n",
    "plt.show()"
   ]
  },
  {
   "cell_type": "markdown",
   "metadata": {},
   "source": [
    "# Mapa topografia projeção Mercator"
   ]
  },
  {
   "cell_type": "code",
   "execution_count": null,
   "metadata": {
    "collapsed": true
   },
   "outputs": [],
   "source": [
    "topo_tmp=topo_tmp[::-1,:]"
   ]
  },
  {
   "cell_type": "code",
   "execution_count": null,
   "metadata": {
    "collapsed": true
   },
   "outputs": [],
   "source": [
    "lon = -360.+lon"
   ]
  },
  {
   "cell_type": "code",
   "execution_count": null,
   "metadata": {
    "collapsed": true
   },
   "outputs": [],
   "source": [
    "fig = plt.figure()\n",
    "ax = fig.add_axes([0.1,0.1,0.8,0.8])\n",
    "m = Basemap(llcrnrlon=lon.min(), llcrnrlat=lat.min(), urcrnrlon=lon.max(), urcrnrlat=lat.max(),\n",
    "            resolution='l', projection='merc',\n",
    "            lat_1=lat.max(), lon_0=lon.max())\n",
    "x, y = m(lon, lat)\n",
    "im=m.contourf(x, y, topo, 40, cmap='cubehelix')\n",
    "parallels = np.arange(-21.5,-19,0.5)\n",
    "m.drawcoastlines()\n",
    "m.drawcountries()\n",
    "#parallels\n",
    "parallels = np.arange(-21.5,-19,0.5)\n",
    "m.drawparallels(parallels,labels=[1,0,0,1])\n",
    "##meridians\n",
    "meridians = np.arange(320.,331.,2.5)\n",
    "m.drawmeridians(meridians,labels=[1,0,0,1])\n",
    "#\n",
    "cb = m.colorbar(im,\"right\", size=\"5%\", pad='5%')\n",
    "cb.ax.set_xlabel('m')\n",
    "ax.set_title('Topografia')\n",
    "plt.show()"
   ]
  }
 ],
 "metadata": {
  "kernelspec": {
   "display_name": "Python 2",
   "language": "python",
   "name": "python2"
  },
  "language_info": {
   "codemirror_mode": {
    "name": "ipython",
    "version": 2
   },
   "file_extension": ".py",
   "mimetype": "text/x-python",
   "name": "python",
   "nbconvert_exporter": "python",
   "pygments_lexer": "ipython2",
   "version": "2.7.10"
  }
 },
 "nbformat": 4,
 "nbformat_minor": 0
}
